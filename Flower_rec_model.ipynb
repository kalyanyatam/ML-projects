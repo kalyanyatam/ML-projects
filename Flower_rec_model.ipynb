{
  "nbformat": 4,
  "nbformat_minor": 0,
  "metadata": {
    "colab": {
      "provenance": [],
      "authorship_tag": "ABX9TyOu1iQC1+IdGsjIz8OwU86Q",
      "include_colab_link": true
    },
    "kernelspec": {
      "name": "python3",
      "display_name": "Python 3"
    },
    "language_info": {
      "name": "python"
    }
  },
  "cells": [
    {
      "cell_type": "markdown",
      "metadata": {
        "id": "view-in-github",
        "colab_type": "text"
      },
      "source": [
        "<a href=\"https://colab.research.google.com/github/kalyanyatam/ML-projects/blob/main/Flower_rec_model.ipynb\" target=\"_parent\"><img src=\"https://colab.research.google.com/assets/colab-badge.svg\" alt=\"Open In Colab\"/></a>"
      ]
    },
    {
      "cell_type": "code",
      "execution_count": null,
      "metadata": {
        "id": "msseSZ-zCexc"
      },
      "outputs": [],
      "source": [
        "import os\n",
        "import numpy as np\n",
        "import tensorflow as tf\n",
        "from tensorflow.keras import layers\n",
        "from tensorflow.keras.preprocessing.image import load_img, ImageDataGenerator\n",
        "from tensorflow.keras.models import Sequential, load_model\n",
        "from tensorflow.keras.layers import Conv2D,MaxPooling2D,Dense,Dropout,Flatten"
      ]
    },
    {
      "cell_type": "markdown",
      "source": [
        "Fetching Images count from Folders"
      ],
      "metadata": {
        "id": "w-8lAhrtEO6O"
      }
    },
    {
      "cell_type": "code",
      "source": [
        "import kagglehub\n",
        "\n",
        "# Download latest version\n",
        "path = kagglehub.dataset_download(\"alxmamaev/flowers-recognition\")\n",
        "\n",
        "print(\"Path to dataset files:\", path)\n"
      ],
      "metadata": {
        "colab": {
          "base_uri": "https://localhost:8080/"
        },
        "id": "J4RX4FOCEQ-O",
        "outputId": "4a89c708-9611-4b46-bea4-2445fa2ccbc3"
      },
      "execution_count": 1,
      "outputs": [
        {
          "output_type": "stream",
          "name": "stdout",
          "text": [
            "Warning: Looks like you're using an outdated `kagglehub` version (installed: 0.3.6), please consider upgrading to the latest version (0.3.7).\n",
            "Downloading from https://www.kaggle.com/api/v1/datasets/download/alxmamaev/flowers-recognition?dataset_version_number=2...\n"
          ]
        },
        {
          "output_type": "stream",
          "name": "stderr",
          "text": [
            "100%|██████████| 225M/225M [00:10<00:00, 21.9MB/s]"
          ]
        },
        {
          "output_type": "stream",
          "name": "stdout",
          "text": [
            "Extracting files...\n"
          ]
        },
        {
          "output_type": "stream",
          "name": "stderr",
          "text": [
            "\n"
          ]
        },
        {
          "output_type": "stream",
          "name": "stdout",
          "text": [
            "Path to dataset files: /root/.cache/kagglehub/datasets/alxmamaev/flowers-recognition/versions/2\n"
          ]
        }
      ]
    },
    {
      "cell_type": "code",
      "source": [
        "\n",
        "# List the files and folders in the dataset directory\n",
        "print(\"Dataset contents:\", os.listdir(path))\n"
      ],
      "metadata": {
        "id": "h68CGcsjEFEC",
        "colab": {
          "base_uri": "https://localhost:8080/"
        },
        "outputId": "7148b4d9-30ba-44f2-a6f7-c6446e8f6e51"
      },
      "execution_count": 3,
      "outputs": [
        {
          "output_type": "stream",
          "name": "stdout",
          "text": [
            "Dataset contents: ['flowers']\n"
          ]
        }
      ]
    },
    {
      "cell_type": "code",
      "source": [
        "\n",
        "# Assuming images are inside subdirectories (e.g., 'daisy', 'rose', etc.)\n",
        "categories = os.listdir(path)\n",
        "print(\"Categories of flowers:\", categories)\n",
        "\n",
        "# Get a few sample image paths\n",
        "sample_images = []\n",
        "for category in categories:\n",
        "    category_path = os.path.join(path, category)\n",
        "    if os.path.isdir(category_path):  # Ensure it's a folder\n",
        "        images = os.listdir(category_path)[:5]  # Get first 5 images\n",
        "        sample_images.extend([(category, img) for img in images])\n",
        "\n",
        "# Convert to a DataFrame to view as a table\n",
        "df = pd.DataFrame(sample_images, columns=[\"Category\", \"Image_Name\"])\n",
        "print(df.head())  # View first few rows\n"
      ],
      "metadata": {
        "id": "l4aDcKhxD_Bu",
        "colab": {
          "base_uri": "https://localhost:8080/"
        },
        "outputId": "f1736a74-ccaa-405b-8f6a-916079220b38"
      },
      "execution_count": 5,
      "outputs": [
        {
          "output_type": "stream",
          "name": "stdout",
          "text": [
            "Categories of flowers: ['flowers']\n",
            "  Category Image_Name\n",
            "0  flowers       rose\n",
            "1  flowers      tulip\n",
            "2  flowers  dandelion\n",
            "3  flowers  sunflower\n",
            "4  flowers      daisy\n"
          ]
        }
      ]
    },
    {
      "cell_type": "code",
      "source": [],
      "metadata": {
        "id": "2_yCyV9KbiQH"
      },
      "execution_count": null,
      "outputs": []
    }
  ]
}